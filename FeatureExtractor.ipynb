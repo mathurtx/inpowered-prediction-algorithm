{
 "cells": [
  {
   "cell_type": "code",
   "execution_count": 2,
   "metadata": {
    "collapsed": false
   },
   "outputs": [],
   "source": [
    "import pandas as pd\n",
    "from sklearn.decomposition import LatentDirichletAllocation\n",
    "from sklearn.externals import joblib\n",
    "from sklearn.feature_extraction.text import TfidfVectorizer\n",
    "\n",
    "class FeatureExtractor:\n",
    "    \n",
    "    def __init__(self):\n",
    "        self.name = \"FeatureExtractor\"\n",
    "        self.X = []\n",
    "        \n",
    "    def authorEventsRatioReader(self,filename):\n",
    "        authorEventsRatio = pd.read_csv(filename,delimiter=\",\")\n",
    "        authorEventsRatioDict = authorEventsRatio.to_dict()\n",
    "        return authorEventsRatioDict\n",
    "    \n",
    "    def authorFinder(self,authorId):\n",
    "        authorEventsRatioReader('AuthorEventsRatio.csv')\n",
    "        if authorEvents in authorEventsRatioDict.keys():\n",
    "            value = authorEventsRatioDict[authorId]\n",
    "            self.X.append(value)\n",
    "    \n",
    "    def topicFinder(self,summary,ldaTopicSet):\n",
    "        summaryOverlap = []\n",
    "        le = clf = joblib.load('lda.pkl') \n",
    "        tempList = summary.split(\" \")\n",
    "        topicReduced = \" \".join([str(val) for val in tempList if val in label_encoder_list])\n",
    "        if topicReduced != '':\n",
    "            summaryOverlap.append(topicReduced)\n",
    "        self.X.append(le.transform(summaryOverlap))\n",
    "        \n",
    "    def similarityFinder(self,summary):\n",
    "        #vectorizer = joblib.load(\"vectorizer.pk\")\n",
    "        #tfidf = vectorizer.transform(summary)\n",
    "        #self.X.append(tfidf)\n",
    "        return 1\n",
    "        \n",
    "    def addAuthorId(authorId):\n",
    "        self.X.append(authorId)"
   ]
  },
  {
   "cell_type": "code",
   "execution_count": null,
   "metadata": {
    "collapsed": true
   },
   "outputs": [],
   "source": []
  }
 ],
 "metadata": {
  "kernelspec": {
   "display_name": "Python 2",
   "language": "python",
   "name": "python2"
  },
  "language_info": {
   "codemirror_mode": {
    "name": "ipython",
    "version": 2
   },
   "file_extension": ".py",
   "mimetype": "text/x-python",
   "name": "python",
   "nbconvert_exporter": "python",
   "pygments_lexer": "ipython2",
   "version": "2.7.10"
  }
 },
 "nbformat": 4,
 "nbformat_minor": 0
}
