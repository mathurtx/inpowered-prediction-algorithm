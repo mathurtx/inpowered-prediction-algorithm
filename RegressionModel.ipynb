{
 "cells": [
  {
   "cell_type": "code",
   "execution_count": 188,
   "metadata": {
    "collapsed": false
   },
   "outputs": [],
   "source": [
    "import pandas as pd\n",
    "import sklearn"
   ]
  },
  {
   "cell_type": "code",
   "execution_count": 189,
   "metadata": {
    "collapsed": true
   },
   "outputs": [],
   "source": [
    "##This parts reads in the files and joins them"
   ]
  },
  {
   "cell_type": "code",
   "execution_count": 221,
   "metadata": {
    "collapsed": false
   },
   "outputs": [],
   "source": [
    "engagements_tc = pd.read_csv('engagements_tc.txt',delimiter=\"\\t\")"
   ]
  },
  {
   "cell_type": "code",
   "execution_count": 222,
   "metadata": {
    "collapsed": false
   },
   "outputs": [
    {
     "name": "stdout",
     "output_type": "stream",
     "text": [
      "Index([u'post_id', u'events', u'engagement_date'], dtype='object')\n"
     ]
    }
   ],
   "source": [
    "print engagements_tc.columns"
   ]
  },
  {
   "cell_type": "code",
   "execution_count": 223,
   "metadata": {
    "collapsed": false
   },
   "outputs": [
    {
     "name": "stderr",
     "output_type": "stream",
     "text": [
      "/Library/Python/2.7/site-packages/ipykernel/__main__.py:1: ParserWarning: Falling back to the 'python' engine because the 'c' engine does not support regex separators (separators > 1 char and different from '\\s+' are interpreted as regex); you can avoid this warning by specifying engine='python'.\n",
      "  if __name__ == '__main__':\n"
     ]
    }
   ],
   "source": [
    "meta_tc = pd.read_csv('meta_tc.txt',delimiter='\\t+')"
   ]
  },
  {
   "cell_type": "markdown",
   "metadata": {},
   "source": [
    "meta_tc.columns"
   ]
  },
  {
   "cell_type": "code",
   "execution_count": 224,
   "metadata": {
    "collapsed": false
   },
   "outputs": [],
   "source": [
    "meta_tc.set_index('post_id',inplace=True)\n",
    "engagements_tc.set_index('post_id',inplace=True)"
   ]
  },
  {
   "cell_type": "code",
   "execution_count": 225,
   "metadata": {
    "collapsed": false
   },
   "outputs": [],
   "source": [
    "engagements_meta = pd.merge(meta_tc,engagements_tc,how='inner',left_index=True,right_index=True)"
   ]
  },
  {
   "cell_type": "code",
   "execution_count": 226,
   "metadata": {
    "collapsed": false
   },
   "outputs": [],
   "source": [
    "engagements_meta['post_id'] = engagements_meta.index"
   ]
  },
  {
   "cell_type": "code",
   "execution_count": 227,
   "metadata": {
    "collapsed": false
   },
   "outputs": [],
   "source": [
    "engagements_meta['engagement_date'] = engagements_meta['engagement_date'].astype(float)"
   ]
  },
  {
   "cell_type": "code",
   "execution_count": 228,
   "metadata": {
    "collapsed": false
   },
   "outputs": [
    {
     "data": {
      "text/plain": [
       "link                object\n",
       "title               object\n",
       "summary             object\n",
       "author_actor_id    float64\n",
       "pub_date            object\n",
       "events               int64\n",
       "engagement_date    float64\n",
       "post_id              int64\n",
       "dtype: object"
      ]
     },
     "execution_count": 228,
     "metadata": {},
     "output_type": "execute_result"
    }
   ],
   "source": [
    "engagements_meta.dtypes"
   ]
  },
  {
   "cell_type": "code",
   "execution_count": 229,
   "metadata": {
    "collapsed": false
   },
   "outputs": [],
   "source": [
    "import time\n",
    "from datetime import datetime"
   ]
  },
  {
   "cell_type": "code",
   "execution_count": 230,
   "metadata": {
    "collapsed": false
   },
   "outputs": [],
   "source": [
    "def convertEngagementDate(x):\n",
    "    x[6] = datetime.fromtimestamp(x[6]).strftime('%Y-%m-%d %H:%M:%S')\n",
    "    #x[6] = time.strftime('%Y-%m-%d %H:%M:%S', time.localtime(x[6]))\n",
    "    return x"
   ]
  },
  {
   "cell_type": "code",
   "execution_count": 231,
   "metadata": {
    "collapsed": false
   },
   "outputs": [],
   "source": [
    "engagements_meta = engagements_meta.apply(convertEngagementDate,axis=1)"
   ]
  },
  {
   "cell_type": "code",
   "execution_count": 232,
   "metadata": {
    "collapsed": false
   },
   "outputs": [],
   "source": [
    "def convertPubDate(x):\n",
    "    x[4] = datetime.strptime(x[4], \"%Y-%m-%d %H:%M:%S\")\n",
    "    return x"
   ]
  },
  {
   "cell_type": "code",
   "execution_count": 233,
   "metadata": {
    "collapsed": false
   },
   "outputs": [
    {
     "data": {
      "text/plain": [
       "link                object\n",
       "title               object\n",
       "summary             object\n",
       "author_actor_id    float64\n",
       "pub_date            object\n",
       "events               int64\n",
       "engagement_date     object\n",
       "post_id              int64\n",
       "dtype: object"
      ]
     },
     "execution_count": 233,
     "metadata": {},
     "output_type": "execute_result"
    }
   ],
   "source": [
    "engagements_meta.dtypes"
   ]
  },
  {
   "cell_type": "code",
   "execution_count": 234,
   "metadata": {
    "collapsed": false
   },
   "outputs": [],
   "source": [
    "engagements_meta = engagements_meta.apply(convertPubDate,axis=1)"
   ]
  },
  {
   "cell_type": "code",
   "execution_count": 235,
   "metadata": {
    "collapsed": false
   },
   "outputs": [
    {
     "data": {
      "text/plain": [
       "link                       object\n",
       "title                      object\n",
       "summary                    object\n",
       "author_actor_id           float64\n",
       "pub_date           datetime64[ns]\n",
       "events                      int64\n",
       "engagement_date            object\n",
       "post_id                     int64\n",
       "dtype: object"
      ]
     },
     "execution_count": 235,
     "metadata": {},
     "output_type": "execute_result"
    }
   ],
   "source": [
    "def dateDifference(x): \n",
    "    x[6] = datetime.strptime(str(x[6]), \"%Y-%m-%d %H:%M:%S\")\n",
    "    x[7] = abs((x[6] - x[4]).days)\n",
    "    return x\n",
    "engagements_meta.dtypes"
   ]
  },
  {
   "cell_type": "code",
   "execution_count": 236,
   "metadata": {
    "collapsed": true
   },
   "outputs": [],
   "source": [
    "# PART 2\n",
    "# Feature Extraction\n",
    "# Since we have to find views for the first day we find the events for the first day\n",
    "# Do analysis on link url - Analysis Results : All the events came from one view\n",
    "# Find AuthorEventsRation = Views by Author/ Total number of views\n",
    "# LDA to find topics for the authors - Could not be completed because of issues with one hot encoding. If resolved could have\n",
    "# been used as feature"
   ]
  },
  {
   "cell_type": "code",
   "execution_count": 237,
   "metadata": {
    "collapsed": false
   },
   "outputs": [],
   "source": [
    "engagements_meta['date_difference'] = 1\n",
    "engagements_meta = engagements_meta.apply(dateDifference,axis=1)"
   ]
  },
  {
   "cell_type": "code",
   "execution_count": 238,
   "metadata": {
    "collapsed": false
   },
   "outputs": [],
   "source": [
    "authorEventCount = engagements_meta.groupby('author_actor_id')['events'].sum()"
   ]
  },
  {
   "cell_type": "code",
   "execution_count": 239,
   "metadata": {
    "collapsed": false
   },
   "outputs": [],
   "source": [
    "authorEventCount = pd.DataFrame(authorEventCount)\n",
    "authorEventCount.columns = ['Total_events']\n",
    "authorEventCount.head(1)\n",
    "totalEventCount = authorEventCount['Total_events'].sum()\n",
    "authorEventCount.columns = ['AuthorEventsRatio']"
   ]
  },
  {
   "cell_type": "code",
   "execution_count": 240,
   "metadata": {
    "collapsed": false
   },
   "outputs": [],
   "source": [
    "def calculateEventCountRatio(x):\n",
    "    x = (x*1.0)/(totalEventCount*1.0)\n",
    "    return x"
   ]
  },
  {
   "cell_type": "code",
   "execution_count": 241,
   "metadata": {
    "collapsed": false
   },
   "outputs": [],
   "source": [
    "authorEventCount = authorEventCount.applymap(lambda x : calculateEventCountRatio(x))"
   ]
  },
  {
   "cell_type": "code",
   "execution_count": 242,
   "metadata": {
    "collapsed": false
   },
   "outputs": [],
   "source": [
    "authorEventCount.head(1)\n",
    "authorEventCount.to_csv('AuthorEventsRatio.csv')"
   ]
  },
  {
   "cell_type": "code",
   "execution_count": 251,
   "metadata": {
    "collapsed": false
   },
   "outputs": [],
   "source": [
    "engagements_meta.set_index('author_actor_id',inplace=True)"
   ]
  },
  {
   "cell_type": "code",
   "execution_count": 252,
   "metadata": {
    "collapsed": true
   },
   "outputs": [],
   "source": [
    "engagements_meta_author_ratio = pd.merge(authorEventCount,engagements_meta,left_index=True,right_index=True, how=\"inner\")"
   ]
  },
  {
   "cell_type": "code",
   "execution_count": 253,
   "metadata": {
    "collapsed": false
   },
   "outputs": [
    {
     "data": {
      "text/plain": [
       "Index([u'AuthorEventsRatio', u'link', u'title', u'summary', u'pub_date',\n",
       "       u'events', u'engagement_date', u'post_id', u'date_difference'],\n",
       "      dtype='object')"
      ]
     },
     "execution_count": 253,
     "metadata": {},
     "output_type": "execute_result"
    }
   ],
   "source": [
    "engagements_meta_author_ratio.columns"
   ]
  },
  {
   "cell_type": "code",
   "execution_count": 254,
   "metadata": {
    "collapsed": false
   },
   "outputs": [
    {
     "name": "stderr",
     "output_type": "stream",
     "text": [
      "/Library/Python/2.7/site-packages/ipykernel/__main__.py:1: FutureWarning: sort(columns=....) is deprecated, use sort_values(by=.....)\n",
      "  if __name__ == '__main__':\n"
     ]
    }
   ],
   "source": [
    "engagements_meta_author_ratio = engagements_meta_author_ratio.sort(['AuthorEventsRatio','events'],ascending=[0,0])"
   ]
  },
  {
   "cell_type": "code",
   "execution_count": 255,
   "metadata": {
    "collapsed": false
   },
   "outputs": [
    {
     "data": {
      "text/html": [
       "<div>\n",
       "<table border=\"1\" class=\"dataframe\">\n",
       "  <thead>\n",
       "    <tr style=\"text-align: right;\">\n",
       "      <th></th>\n",
       "      <th>AuthorEventsRatio</th>\n",
       "      <th>link</th>\n",
       "      <th>title</th>\n",
       "      <th>summary</th>\n",
       "      <th>pub_date</th>\n",
       "      <th>events</th>\n",
       "      <th>engagement_date</th>\n",
       "      <th>post_id</th>\n",
       "      <th>date_difference</th>\n",
       "    </tr>\n",
       "    <tr>\n",
       "      <th>author_actor_id</th>\n",
       "      <th></th>\n",
       "      <th></th>\n",
       "      <th></th>\n",
       "      <th></th>\n",
       "      <th></th>\n",
       "      <th></th>\n",
       "      <th></th>\n",
       "      <th></th>\n",
       "      <th></th>\n",
       "    </tr>\n",
       "  </thead>\n",
       "  <tbody>\n",
       "    <tr>\n",
       "      <th>529.0</th>\n",
       "      <td>0.068907</td>\n",
       "      <td>http://techcrunch.com/2016/01/26/hey-vina-is-a...</td>\n",
       "      <td>\"Hey! VINA\" Is A Tinder For (Girl) Friends</td>\n",
       "      <td>A startup called VINA is launching a mobile ap...</td>\n",
       "      <td>2016-01-26 05:00:00</td>\n",
       "      <td>25231</td>\n",
       "      <td>2016-01-01</td>\n",
       "      <td>26</td>\n",
       "      <td>1</td>\n",
       "    </tr>\n",
       "    <tr>\n",
       "      <th>529.0</th>\n",
       "      <td>0.068907</td>\n",
       "      <td>http://techcrunch.com/2016/02/15/mattel-unveil...</td>\n",
       "      <td>Mattel Unveils ThingMaker, A $300 3D Printer T...</td>\n",
       "      <td>At New York's Toy Fair trade show over the wee...</td>\n",
       "      <td>2016-02-15 05:00:00</td>\n",
       "      <td>22900</td>\n",
       "      <td>2016-02-01</td>\n",
       "      <td>15</td>\n",
       "      <td>1</td>\n",
       "    </tr>\n",
       "  </tbody>\n",
       "</table>\n",
       "</div>"
      ],
      "text/plain": [
       "                 AuthorEventsRatio  \\\n",
       "author_actor_id                      \n",
       "529.0                     0.068907   \n",
       "529.0                     0.068907   \n",
       "\n",
       "                                                              link  \\\n",
       "author_actor_id                                                      \n",
       "529.0            http://techcrunch.com/2016/01/26/hey-vina-is-a...   \n",
       "529.0            http://techcrunch.com/2016/02/15/mattel-unveil...   \n",
       "\n",
       "                                                             title  \\\n",
       "author_actor_id                                                      \n",
       "529.0                   \"Hey! VINA\" Is A Tinder For (Girl) Friends   \n",
       "529.0            Mattel Unveils ThingMaker, A $300 3D Printer T...   \n",
       "\n",
       "                                                           summary  \\\n",
       "author_actor_id                                                      \n",
       "529.0            A startup called VINA is launching a mobile ap...   \n",
       "529.0            At New York's Toy Fair trade show over the wee...   \n",
       "\n",
       "                           pub_date  events engagement_date  post_id  \\\n",
       "author_actor_id                                                        \n",
       "529.0           2016-01-26 05:00:00   25231      2016-01-01       26   \n",
       "529.0           2016-02-15 05:00:00   22900      2016-02-01       15   \n",
       "\n",
       "                 date_difference  \n",
       "author_actor_id                   \n",
       "529.0                          1  \n",
       "529.0                          1  "
      ]
     },
     "execution_count": 255,
     "metadata": {},
     "output_type": "execute_result"
    }
   ],
   "source": [
    "engagements_meta_author_ratio.head(2)"
   ]
  },
  {
   "cell_type": "code",
   "execution_count": null,
   "metadata": {
    "collapsed": true
   },
   "outputs": [],
   "source": []
  },
  {
   "cell_type": "code",
   "execution_count": 53,
   "metadata": {
    "collapsed": true
   },
   "outputs": [],
   "source": [
    "#\n",
    "# Finding similarity between content of same users\n",
    "#"
   ]
  },
  {
   "cell_type": "code",
   "execution_count": 100,
   "metadata": {
    "collapsed": false
   },
   "outputs": [],
   "source": [
    "similarityDf = pd.merge(engagements_meta_author_ratio,engagements_meta_author_ratio,left_index=True,right_index=True,how='inner')"
   ]
  },
  {
   "cell_type": "code",
   "execution_count": 256,
   "metadata": {
    "collapsed": false
   },
   "outputs": [
    {
     "data": {
      "text/plain": [
       "['vectorizer.pk',\n",
       " 'vectorizer.pk_01.npy',\n",
       " 'vectorizer.pk_02.npy',\n",
       " 'vectorizer.pk_03.npy']"
      ]
     },
     "execution_count": 256,
     "metadata": {},
     "output_type": "execute_result"
    }
   ],
   "source": [
    "from sklearn.feature_extraction.text import TfidfVectorizer\n",
    "from sklearn.externals import joblib\n",
    "import numpy as np\n",
    "vectorizer = TfidfVectorizer(min_df=1,stop_words='english',ngram_range=(2, 2))\n",
    "tfidf_1 = vectorizer.fit_transform(engagements_meta_author_ratio['summary'].values.tolist())\n",
    "joblib.dump(tfidf_1,\"vectorizer.pk\")"
   ]
  },
  {
   "cell_type": "code",
   "execution_count": 257,
   "metadata": {
    "collapsed": false
   },
   "outputs": [],
   "source": [
    "similarityDf = tfidf_1 * tfidf_1.T\n",
    "similarityArray = similarityDf.todense()\n",
    "postId = engagements_meta_author_ratio['post_id'].values.tolist()"
   ]
  },
  {
   "cell_type": "code",
   "execution_count": 258,
   "metadata": {
    "collapsed": false
   },
   "outputs": [],
   "source": [
    "postId = np.array(postId)\n",
    "postId.shape = (30209,1)\n",
    "similarityPostId = np.hstack((postId,similarityArray))"
   ]
  },
  {
   "cell_type": "code",
   "execution_count": 259,
   "metadata": {
    "collapsed": false
   },
   "outputs": [],
   "source": [
    "similarityPostIdDf = pd.DataFrame(similarityPostId)"
   ]
  },
  {
   "cell_type": "code",
   "execution_count": 260,
   "metadata": {
    "collapsed": false
   },
   "outputs": [],
   "source": [
    "column_names = [str(i) for i in range(30209)]\n",
    "column_names.append('post_id')"
   ]
  },
  {
   "cell_type": "code",
   "execution_count": 261,
   "metadata": {
    "collapsed": false
   },
   "outputs": [],
   "source": [
    "similarityPostIdDf.columns = column_names"
   ]
  },
  {
   "cell_type": "code",
   "execution_count": 262,
   "metadata": {
    "collapsed": false
   },
   "outputs": [],
   "source": [
    "similarityPostIdDf.set_index('post_id',inplace=True)"
   ]
  },
  {
   "cell_type": "code",
   "execution_count": 265,
   "metadata": {
    "collapsed": false
   },
   "outputs": [
    {
     "data": {
      "text/plain": [
       "Index([u'AuthorEventsRatio', u'link', u'title', u'summary', u'pub_date',\n",
       "       u'events', u'engagement_date', u'post_id', u'date_difference'],\n",
       "      dtype='object')"
      ]
     },
     "execution_count": 265,
     "metadata": {},
     "output_type": "execute_result"
    }
   ],
   "source": [
    "engagements_meta_author_ratio.columns"
   ]
  },
  {
   "cell_type": "code",
   "execution_count": 266,
   "metadata": {
    "collapsed": false
   },
   "outputs": [],
   "source": [
    "engagements_meta_author_ratio['author_action_id'] = engagements_meta_author_ratio.index"
   ]
  },
  {
   "cell_type": "code",
   "execution_count": 267,
   "metadata": {
    "collapsed": true
   },
   "outputs": [],
   "source": [
    "engagements_meta_author_ratio.set_index('post_id',inplace=True)"
   ]
  },
  {
   "cell_type": "code",
   "execution_count": 269,
   "metadata": {
    "collapsed": false
   },
   "outputs": [
    {
     "data": {
      "text/plain": [
       "Int64Index([   26,    15,    22,    15,    23,    10,    10,    24,    11,\n",
       "               24,\n",
       "            ...\n",
       "                6,    28,     2,     2,    29, 16772,     0,    23,     4,\n",
       "               15],\n",
       "           dtype='int64', name=u'post_id', length=30209)"
      ]
     },
     "execution_count": 269,
     "metadata": {},
     "output_type": "execute_result"
    }
   ],
   "source": [
    "engagements_meta_author_ratio.index"
   ]
  },
  {
   "cell_type": "code",
   "execution_count": null,
   "metadata": {
    "collapsed": true
   },
   "outputs": [],
   "source": [
    "engagement_similarity = pd.merge(engagements_meta_author_ratio,similarityPostIdDf, left_index=True,right_index=True,how=\"inner\")"
   ]
  },
  {
   "cell_type": "code",
   "execution_count": 40,
   "metadata": {
    "collapsed": true
   },
   "outputs": [],
   "source": [
    "#\n",
    "# Link Analysis - Did not give sufficient value - Events from only one url\n",
    "#"
   ]
  },
  {
   "cell_type": "code",
   "execution_count": 41,
   "metadata": {
    "collapsed": false
   },
   "outputs": [
    {
     "data": {
      "text/plain": [
       "Index([u'link'], dtype='object')"
      ]
     },
     "execution_count": 41,
     "metadata": {},
     "output_type": "execute_result"
    }
   ],
   "source": [
    "linkGrouping = engagements_meta_author_ratio['link']\n",
    "linkGrouping = pd.DataFrame(linkGrouping)\n",
    "linkGrouping.columns"
   ]
  },
  {
   "cell_type": "code",
   "execution_count": 42,
   "metadata": {
    "collapsed": false
   },
   "outputs": [],
   "source": [
    "from urlparse import urlparse\n",
    "def extractLinkUrl(x):\n",
    "    parsed_uri = urlparse(x)\n",
    "    domain = '{uri.scheme}://{uri.netloc}/'.format(uri=parsed_uri)\n",
    "    return domain"
   ]
  },
  {
   "cell_type": "code",
   "execution_count": 43,
   "metadata": {
    "collapsed": false
   },
   "outputs": [
    {
     "data": {
      "text/html": [
       "<div>\n",
       "<table border=\"1\" class=\"dataframe\">\n",
       "  <thead>\n",
       "    <tr style=\"text-align: right;\">\n",
       "      <th></th>\n",
       "      <th>link</th>\n",
       "    </tr>\n",
       "    <tr>\n",
       "      <th>post_id</th>\n",
       "      <th></th>\n",
       "    </tr>\n",
       "  </thead>\n",
       "  <tbody>\n",
       "    <tr>\n",
       "      <th>749630465</th>\n",
       "      <td>http://techcrunch.com/</td>\n",
       "    </tr>\n",
       "    <tr>\n",
       "      <th>740812536</th>\n",
       "      <td>http://www.techcrunch.com/</td>\n",
       "    </tr>\n",
       "    <tr>\n",
       "      <th>703876461</th>\n",
       "      <td>http://social.techcrunch.com/</td>\n",
       "    </tr>\n",
       "  </tbody>\n",
       "</table>\n",
       "</div>"
      ],
      "text/plain": [
       "                                    link\n",
       "post_id                                 \n",
       "749630465         http://techcrunch.com/\n",
       "740812536     http://www.techcrunch.com/\n",
       "703876461  http://social.techcrunch.com/"
      ]
     },
     "execution_count": 43,
     "metadata": {},
     "output_type": "execute_result"
    }
   ],
   "source": [
    "linkGrouping = linkGrouping.applymap(lambda x: extractLinkUrl(x))\n",
    "linkGrouping.drop_duplicates(['link'])"
   ]
  },
  {
   "cell_type": "code",
   "execution_count": 44,
   "metadata": {
    "collapsed": true
   },
   "outputs": [],
   "source": [
    "#\n",
    "# START LDA WORK\n",
    "# Could not be completed because of problems with one hot encoding\n",
    "#"
   ]
  },
  {
   "cell_type": "code",
   "execution_count": 45,
   "metadata": {
    "collapsed": false
   },
   "outputs": [
    {
     "ename": "KeyError",
     "evalue": "\"['post_id'] not in index\"",
     "output_type": "error",
     "traceback": [
      "\u001b[0;31m---------------------------------------------------------------------------\u001b[0m",
      "\u001b[0;31mKeyError\u001b[0m                                  Traceback (most recent call last)",
      "\u001b[0;32m<ipython-input-45-11c1f2829778>\u001b[0m in \u001b[0;36m<module>\u001b[0;34m()\u001b[0m\n\u001b[0;32m----> 1\u001b[0;31m \u001b[0msummary\u001b[0m \u001b[0;34m=\u001b[0m \u001b[0mengagements_meta_author_ratio\u001b[0m\u001b[0;34m[\u001b[0m\u001b[0;34m[\u001b[0m\u001b[0;34m'summary'\u001b[0m\u001b[0;34m,\u001b[0m\u001b[0;34m'post_id'\u001b[0m\u001b[0;34m]\u001b[0m\u001b[0;34m]\u001b[0m\u001b[0;34m\u001b[0m\u001b[0m\n\u001b[0m",
      "\u001b[0;32m/Library/Python/2.7/site-packages/pandas-0.18.1-py2.7-macosx-10.10-intel.egg/pandas/core/frame.pyc\u001b[0m in \u001b[0;36m__getitem__\u001b[0;34m(self, key)\u001b[0m\n\u001b[1;32m   1989\u001b[0m         \u001b[0;32mif\u001b[0m \u001b[0misinstance\u001b[0m\u001b[0;34m(\u001b[0m\u001b[0mkey\u001b[0m\u001b[0;34m,\u001b[0m \u001b[0;34m(\u001b[0m\u001b[0mSeries\u001b[0m\u001b[0;34m,\u001b[0m \u001b[0mnp\u001b[0m\u001b[0;34m.\u001b[0m\u001b[0mndarray\u001b[0m\u001b[0;34m,\u001b[0m \u001b[0mIndex\u001b[0m\u001b[0;34m,\u001b[0m \u001b[0mlist\u001b[0m\u001b[0;34m)\u001b[0m\u001b[0;34m)\u001b[0m\u001b[0;34m:\u001b[0m\u001b[0;34m\u001b[0m\u001b[0m\n\u001b[1;32m   1990\u001b[0m             \u001b[0;31m# either boolean or fancy integer index\u001b[0m\u001b[0;34m\u001b[0m\u001b[0;34m\u001b[0m\u001b[0m\n\u001b[0;32m-> 1991\u001b[0;31m             \u001b[0;32mreturn\u001b[0m \u001b[0mself\u001b[0m\u001b[0;34m.\u001b[0m\u001b[0m_getitem_array\u001b[0m\u001b[0;34m(\u001b[0m\u001b[0mkey\u001b[0m\u001b[0;34m)\u001b[0m\u001b[0;34m\u001b[0m\u001b[0m\n\u001b[0m\u001b[1;32m   1992\u001b[0m         \u001b[0;32melif\u001b[0m \u001b[0misinstance\u001b[0m\u001b[0;34m(\u001b[0m\u001b[0mkey\u001b[0m\u001b[0;34m,\u001b[0m \u001b[0mDataFrame\u001b[0m\u001b[0;34m)\u001b[0m\u001b[0;34m:\u001b[0m\u001b[0;34m\u001b[0m\u001b[0m\n\u001b[1;32m   1993\u001b[0m             \u001b[0;32mreturn\u001b[0m \u001b[0mself\u001b[0m\u001b[0;34m.\u001b[0m\u001b[0m_getitem_frame\u001b[0m\u001b[0;34m(\u001b[0m\u001b[0mkey\u001b[0m\u001b[0;34m)\u001b[0m\u001b[0;34m\u001b[0m\u001b[0m\n",
      "\u001b[0;32m/Library/Python/2.7/site-packages/pandas-0.18.1-py2.7-macosx-10.10-intel.egg/pandas/core/frame.pyc\u001b[0m in \u001b[0;36m_getitem_array\u001b[0;34m(self, key)\u001b[0m\n\u001b[1;32m   2033\u001b[0m             \u001b[0;32mreturn\u001b[0m \u001b[0mself\u001b[0m\u001b[0;34m.\u001b[0m\u001b[0mtake\u001b[0m\u001b[0;34m(\u001b[0m\u001b[0mindexer\u001b[0m\u001b[0;34m,\u001b[0m \u001b[0maxis\u001b[0m\u001b[0;34m=\u001b[0m\u001b[0;36m0\u001b[0m\u001b[0;34m,\u001b[0m \u001b[0mconvert\u001b[0m\u001b[0;34m=\u001b[0m\u001b[0mFalse\u001b[0m\u001b[0;34m)\u001b[0m\u001b[0;34m\u001b[0m\u001b[0m\n\u001b[1;32m   2034\u001b[0m         \u001b[0;32melse\u001b[0m\u001b[0;34m:\u001b[0m\u001b[0;34m\u001b[0m\u001b[0m\n\u001b[0;32m-> 2035\u001b[0;31m             \u001b[0mindexer\u001b[0m \u001b[0;34m=\u001b[0m \u001b[0mself\u001b[0m\u001b[0;34m.\u001b[0m\u001b[0mix\u001b[0m\u001b[0;34m.\u001b[0m\u001b[0m_convert_to_indexer\u001b[0m\u001b[0;34m(\u001b[0m\u001b[0mkey\u001b[0m\u001b[0;34m,\u001b[0m \u001b[0maxis\u001b[0m\u001b[0;34m=\u001b[0m\u001b[0;36m1\u001b[0m\u001b[0;34m)\u001b[0m\u001b[0;34m\u001b[0m\u001b[0m\n\u001b[0m\u001b[1;32m   2036\u001b[0m             \u001b[0;32mreturn\u001b[0m \u001b[0mself\u001b[0m\u001b[0;34m.\u001b[0m\u001b[0mtake\u001b[0m\u001b[0;34m(\u001b[0m\u001b[0mindexer\u001b[0m\u001b[0;34m,\u001b[0m \u001b[0maxis\u001b[0m\u001b[0;34m=\u001b[0m\u001b[0;36m1\u001b[0m\u001b[0;34m,\u001b[0m \u001b[0mconvert\u001b[0m\u001b[0;34m=\u001b[0m\u001b[0mTrue\u001b[0m\u001b[0;34m)\u001b[0m\u001b[0;34m\u001b[0m\u001b[0m\n\u001b[1;32m   2037\u001b[0m \u001b[0;34m\u001b[0m\u001b[0m\n",
      "\u001b[0;32m/Library/Python/2.7/site-packages/pandas-0.18.1-py2.7-macosx-10.10-intel.egg/pandas/core/indexing.pyc\u001b[0m in \u001b[0;36m_convert_to_indexer\u001b[0;34m(self, obj, axis, is_setter)\u001b[0m\n\u001b[1;32m   1212\u001b[0m                 \u001b[0mmask\u001b[0m \u001b[0;34m=\u001b[0m \u001b[0mcheck\u001b[0m \u001b[0;34m==\u001b[0m \u001b[0;34m-\u001b[0m\u001b[0;36m1\u001b[0m\u001b[0;34m\u001b[0m\u001b[0m\n\u001b[1;32m   1213\u001b[0m                 \u001b[0;32mif\u001b[0m \u001b[0mmask\u001b[0m\u001b[0;34m.\u001b[0m\u001b[0many\u001b[0m\u001b[0;34m(\u001b[0m\u001b[0;34m)\u001b[0m\u001b[0;34m:\u001b[0m\u001b[0;34m\u001b[0m\u001b[0m\n\u001b[0;32m-> 1214\u001b[0;31m                     \u001b[0;32mraise\u001b[0m \u001b[0mKeyError\u001b[0m\u001b[0;34m(\u001b[0m\u001b[0;34m'%s not in index'\u001b[0m \u001b[0;34m%\u001b[0m \u001b[0mobjarr\u001b[0m\u001b[0;34m[\u001b[0m\u001b[0mmask\u001b[0m\u001b[0;34m]\u001b[0m\u001b[0;34m)\u001b[0m\u001b[0;34m\u001b[0m\u001b[0m\n\u001b[0m\u001b[1;32m   1215\u001b[0m \u001b[0;34m\u001b[0m\u001b[0m\n\u001b[1;32m   1216\u001b[0m                 \u001b[0;32mreturn\u001b[0m \u001b[0m_values_from_object\u001b[0m\u001b[0;34m(\u001b[0m\u001b[0mindexer\u001b[0m\u001b[0;34m)\u001b[0m\u001b[0;34m\u001b[0m\u001b[0m\n",
      "\u001b[0;31mKeyError\u001b[0m: \"['post_id'] not in index\""
     ]
    }
   ],
   "source": [
    "summary = engagements_meta_author_ratio[['summary','post_id']]"
   ]
  },
  {
   "cell_type": "markdown",
   "metadata": {
    "collapsed": true
   },
   "source": [
    "summary.head(1)"
   ]
  },
  {
   "cell_type": "code",
   "execution_count": null,
   "metadata": {
    "collapsed": false
   },
   "outputs": [],
   "source": [
    "summary = pd.DataFrame(summary)"
   ]
  },
  {
   "cell_type": "code",
   "execution_count": null,
   "metadata": {
    "collapsed": false
   },
   "outputs": [],
   "source": [
    "summary.head(5)"
   ]
  },
  {
   "cell_type": "code",
   "execution_count": null,
   "metadata": {
    "collapsed": false
   },
   "outputs": [],
   "source": [
    "summary['author_actor_id'] = summary.index"
   ]
  },
  {
   "cell_type": "code",
   "execution_count": null,
   "metadata": {
    "collapsed": false
   },
   "outputs": [],
   "source": [
    "summaryList = summary.values.tolist()"
   ]
  },
  {
   "cell_type": "markdown",
   "metadata": {},
   "source": [
    "summaryList[1]"
   ]
  },
  {
   "cell_type": "code",
   "execution_count": null,
   "metadata": {
    "collapsed": false
   },
   "outputs": [],
   "source": [
    "print summaryList[4]"
   ]
  },
  {
   "cell_type": "code",
   "execution_count": null,
   "metadata": {
    "collapsed": false
   },
   "outputs": [],
   "source": [
    "AuthorTextIndex = []\n",
    "def combineText():\n",
    "    startIndex = int(summaryList[1][1])\n",
    "    text = ''\n",
    "    for x in summaryList:\n",
    "        if int(x[1]) == startIndex:\n",
    "            text = text + x[0]\n",
    "        elif int(x[1]) != startIndex:\n",
    "            AuthorTextIndex.append((startIndex,text))\n",
    "            startIndex = int(x[1])\n",
    "            text = x[0]\n",
    "\n",
    "combineText()          \n",
    "            "
   ]
  },
  {
   "cell_type": "code",
   "execution_count": null,
   "metadata": {
    "collapsed": false
   },
   "outputs": [],
   "source": [
    "len(AuthorTextIndex)"
   ]
  },
  {
   "cell_type": "code",
   "execution_count": null,
   "metadata": {
    "collapsed": false
   },
   "outputs": [],
   "source": [
    "AuthorTextIndex[2]"
   ]
  },
  {
   "cell_type": "code",
   "execution_count": null,
   "metadata": {
    "collapsed": true
   },
   "outputs": [],
   "source": [
    "from sklearn.feature_extraction.text import TfidfVectorizer,CountVectorizer\n",
    "vectorizer = TfidfVectorizer(min_df=1,stop_words='english',ngram_range=(2, 2))"
   ]
  },
  {
   "cell_type": "code",
   "execution_count": null,
   "metadata": {
    "collapsed": false
   },
   "outputs": [],
   "source": [
    "AuthorText = [x[1] for x in  AuthorTextIndex]"
   ]
  },
  {
   "cell_type": "code",
   "execution_count": null,
   "metadata": {
    "collapsed": false
   },
   "outputs": [],
   "source": [
    "print len(AuthorText)"
   ]
  },
  {
   "cell_type": "code",
   "execution_count": null,
   "metadata": {
    "collapsed": false
   },
   "outputs": [],
   "source": [
    "AuthorTextVectorizer = vectorizer.fit_transform(AuthorText)\n",
    "idf = vectorizer.idf_\n",
    "idf.sort"
   ]
  },
  {
   "cell_type": "code",
   "execution_count": null,
   "metadata": {
    "collapsed": false
   },
   "outputs": [],
   "source": [
    "from sklearn.decomposition import NMF, LatentDirichletAllocation\n"
   ]
  },
  {
   "cell_type": "code",
   "execution_count": null,
   "metadata": {
    "collapsed": false
   },
   "outputs": [],
   "source": [
    "#nmf = NMF(n_components=10, random_state=1, alpha=.1, l1_ratio=.5).fit(AuthorTextVectorizer)\n",
    "topicList = []\n",
    "def print_top_words(model, feature_names, n_top_words):\n",
    "    for topic_idx, topic in enumerate(model.components_):\n",
    "        print(\"Topic #%d:\" % topic_idx)\n",
    "        s = \" \".join([feature_names[i]\n",
    "                        for i in topic.argsort()[:-n_top_words - 1:-1]])\n",
    "        topicList.append(s)\n",
    "        print(\" \".join([feature_names[i]\n",
    "                        for i in topic.argsort()[:-n_top_words - 1:-1]]))\n",
    "    print()"
   ]
  },
  {
   "cell_type": "code",
   "execution_count": null,
   "metadata": {
    "collapsed": false
   },
   "outputs": [],
   "source": [
    "lda = LatentDirichletAllocation(n_topics=1000, max_iter=5,\n",
    "                                learning_method='online', learning_offset=50.,\n",
    "                                random_state=0)"
   ]
  },
  {
   "cell_type": "code",
   "execution_count": null,
   "metadata": {
    "collapsed": false
   },
   "outputs": [],
   "source": [
    "tf_vectorizer = CountVectorizer(max_df=0.95, min_df=2, max_features=1000,\n",
    "                                stop_words='english')\n",
    "tf = tf_vectorizer.fit_transform(AuthorText)"
   ]
  },
  {
   "cell_type": "code",
   "execution_count": null,
   "metadata": {
    "collapsed": false
   },
   "outputs": [],
   "source": [
    "lda.fit(tf)"
   ]
  },
  {
   "cell_type": "code",
   "execution_count": null,
   "metadata": {
    "collapsed": false
   },
   "outputs": [],
   "source": [
    "print(\"\\nTopics in LDA model:\")\n",
    "tf_feature_names = tf_vectorizer.get_feature_names()\n",
    "print_top_words(lda, tf_feature_names,5)"
   ]
  },
  {
   "cell_type": "code",
   "execution_count": null,
   "metadata": {
    "collapsed": false
   },
   "outputs": [],
   "source": [
    "from sklearn import preprocessing\n",
    "le = preprocessing.LabelEncoder()\n",
    "label_encoder_list = \" \".join(topicList)\n",
    "label_encoder_list = label_encoder_list.split(' ')\n",
    "len(label_encoder_list)"
   ]
  },
  {
   "cell_type": "code",
   "execution_count": null,
   "metadata": {
    "collapsed": false
   },
   "outputs": [],
   "source": [
    "le.fit(label_encoder_list)\n",
    "label_encoder_set = set(label_encoder_list)\n",
    "label_encoder_df = pd.DataFrame(list(label_encoder_set))\n",
    "label_encoder_df.to_csv('label_encoder.csv')"
   ]
  },
  {
   "cell_type": "code",
   "execution_count": null,
   "metadata": {
    "collapsed": false
   },
   "outputs": [],
   "source": [
    "AuthorTextCopy = [unicode(x[0],\"utf-8\") for x in summaryList]\n",
    "summaryReducedTopics = []\n",
    "for x in AuthorTextCopy:\n",
    "    tempList = x.split(\" \")\n",
    "    topicReduced = \" \".join([str(val) for val in tempList if val in label_encoder_list])\n",
    "    if topicReduced != '':\n",
    "        summaryReducedTopics.append(topicReduced)"
   ]
  },
  {
   "cell_type": "code",
   "execution_count": null,
   "metadata": {
    "collapsed": false
   },
   "outputs": [],
   "source": [
    "from sklearn.externals import joblib\n",
    "joblib.dump(le, 'lda.pkl')"
   ]
  },
  {
   "cell_type": "code",
   "execution_count": null,
   "metadata": {
    "collapsed": false
   },
   "outputs": [],
   "source": [
    "le.transform(summaryReducedTopics)"
   ]
  },
  {
   "cell_type": "code",
   "execution_count": null,
   "metadata": {
    "collapsed": false
   },
   "outputs": [],
   "source": [
    "engagements_meta_author_ratio"
   ]
  },
  {
   "cell_type": "code",
   "execution_count": 112,
   "metadata": {
    "collapsed": false
   },
   "outputs": [],
   "source": [
    "datasetDf = engagement_similarity[(engagement_similarity['date_difference'] <= 1)]"
   ]
  },
  {
   "cell_type": "code",
   "execution_count": 113,
   "metadata": {
    "collapsed": false
   },
   "outputs": [
    {
     "data": {
      "text/html": [
       "<div>\n",
       "<table border=\"1\" class=\"dataframe\">\n",
       "  <thead>\n",
       "    <tr style=\"text-align: right;\">\n",
       "      <th></th>\n",
       "      <th>AuthorEventsRatio</th>\n",
       "      <th>link</th>\n",
       "      <th>title</th>\n",
       "      <th>summary</th>\n",
       "      <th>pub_date</th>\n",
       "      <th>events</th>\n",
       "      <th>engagement_date</th>\n",
       "      <th>date_difference</th>\n",
       "      <th>author_action_id</th>\n",
       "      <th>0</th>\n",
       "      <th>...</th>\n",
       "      <th>30199</th>\n",
       "      <th>30200</th>\n",
       "      <th>30201</th>\n",
       "      <th>30202</th>\n",
       "      <th>30203</th>\n",
       "      <th>30204</th>\n",
       "      <th>30205</th>\n",
       "      <th>30206</th>\n",
       "      <th>30207</th>\n",
       "      <th>30208</th>\n",
       "    </tr>\n",
       "    <tr>\n",
       "      <th>post_id</th>\n",
       "      <th></th>\n",
       "      <th></th>\n",
       "      <th></th>\n",
       "      <th></th>\n",
       "      <th></th>\n",
       "      <th></th>\n",
       "      <th></th>\n",
       "      <th></th>\n",
       "      <th></th>\n",
       "      <th></th>\n",
       "      <th></th>\n",
       "      <th></th>\n",
       "      <th></th>\n",
       "      <th></th>\n",
       "      <th></th>\n",
       "      <th></th>\n",
       "      <th></th>\n",
       "      <th></th>\n",
       "      <th></th>\n",
       "      <th></th>\n",
       "      <th></th>\n",
       "    </tr>\n",
       "  </thead>\n",
       "  <tbody>\n",
       "  </tbody>\n",
       "</table>\n",
       "<p>0 rows × 30218 columns</p>\n",
       "</div>"
      ],
      "text/plain": [
       "Empty DataFrame\n",
       "Columns: [AuthorEventsRatio, link, title, summary, pub_date, events, engagement_date, date_difference, author_action_id, 0, 1, 2, 3, 4, 5, 6, 7, 8, 9, 10, 11, 12, 13, 14, 15, 16, 17, 18, 19, 20, 21, 22, 23, 24, 25, 26, 27, 28, 29, 30, 31, 32, 33, 34, 35, 36, 37, 38, 39, 40, 41, 42, 43, 44, 45, 46, 47, 48, 49, 50, 51, 52, 53, 54, 55, 56, 57, 58, 59, 60, 61, 62, 63, 64, 65, 66, 67, 68, 69, 70, 71, 72, 73, 74, 75, 76, 77, 78, 79, 80, 81, 82, 83, 84, 85, 86, 87, 88, 89, 90, ...]\n",
       "Index: []\n",
       "\n",
       "[0 rows x 30218 columns]"
      ]
     },
     "execution_count": 113,
     "metadata": {},
     "output_type": "execute_result"
    }
   ],
   "source": [
    "datasetDf.head(2)"
   ]
  },
  {
   "cell_type": "code",
   "execution_count": null,
   "metadata": {
    "collapsed": true
   },
   "outputs": [],
   "source": [
    "#\n",
    "# BUILDING THE REGRESSION MODEL\n",
    "# Using SVR with Rbf as final model\n",
    "#"
   ]
  },
  {
   "cell_type": "code",
   "execution_count": null,
   "metadata": {
    "collapsed": false
   },
   "outputs": [],
   "source": [
    "datasetDf = datasetDf[['AuthorEventsRatio','summary','date_difference','events','post_id']]"
   ]
  },
  {
   "cell_type": "code",
   "execution_count": null,
   "metadata": {
    "collapsed": false
   },
   "outputs": [],
   "source": [
    "from sklearn.preprocessing import OneHotEncoder\n",
    "#enc.categorical_features()\n",
    "ohefeatures = []\n",
    "for x in AuthorTextCopy:\n",
    "    tempList = x.split(\" \")\n",
    "    topicReduced = [val for val in tempList if val in label_encoder_list]\n",
    "    if topicReduced != '':\n",
    "        ohefeatures.append(topicReduced)"
   ]
  },
  {
   "cell_type": "code",
   "execution_count": null,
   "metadata": {
    "collapsed": false
   },
   "outputs": [],
   "source": [
    "ohefeaturesFlattened = sum(ohefeatures,[])\n",
    "#enc.fit(ohefeatures)\n",
    "#enc_topics = enc.transform(summaryReducedTopics)"
   ]
  },
  {
   "cell_type": "code",
   "execution_count": null,
   "metadata": {
    "collapsed": false
   },
   "outputs": [],
   "source": [
    "enc = preprocessing.LabelEncoder()\n",
    "list(set(ohefeaturesFlattened))\n",
    "ohefeaturesArray = list(set(ohefeaturesFlattened))"
   ]
  },
  {
   "cell_type": "code",
   "execution_count": null,
   "metadata": {
    "collapsed": false
   },
   "outputs": [],
   "source": [
    "ohefeaturesArray\n",
    "#enc.fit(ohefeaturesArray)\n",
    "enc.fit(ohefeaturesArray)\n",
    "enc.transform(ohefeatures)\n",
    "#ohefeatures"
   ]
  },
  {
   "cell_type": "code",
   "execution_count": null,
   "metadata": {
    "collapsed": false
   },
   "outputs": [],
   "source": [
    "datasetDf['author_actor_id'] = datasetDf.index\n",
    "X = df.drop(['author_action_id','pubDate','events','engagement_date','post_id'], axis=1)\n",
    "X = X.values.tolist()\n",
    "X = np.array(X)\n",
    "print similarityDf.shape\n",
    "print X.shape\n",
    "X = np.hstack((X,similarityDf))"
   ]
  },
  {
   "cell_type": "code",
   "execution_count": null,
   "metadata": {
    "collapsed": false
   },
   "outputs": [],
   "source": [
    "from sklearn.cross_validation import train_test_split\n",
    "import numpy as np\n",
    "y = datasetDf['events']\n",
    "y = y.values.tolist()\n",
    "y = np.array(y)\n",
    "X_train, X_test, y_train, y_test = train_test_split(X, y, test_size=0.33, random_state=42)"
   ]
  },
  {
   "cell_type": "code",
   "execution_count": null,
   "metadata": {
    "collapsed": false
   },
   "outputs": [],
   "source": [
    "from sklearn.svm import SVR\n",
    "from sklearn.kernel_ridge import KernelRidge\n",
    "from sklearn.grid_search import GridSearchCV\n",
    "svr = GridSearchCV(SVR(kernel='rbf', gamma=0.1), cv=5,\n",
    "                   param_grid={\"C\": [1e0, 1e1, 1e2, 1e3],\n",
    "                               \"gamma\": np.logspace(-2, 2, 5)})\n",
    "kr = GridSearchCV(KernelRidge(kernel='rbf', gamma=0.1), cv=5,\n",
    "                  param_grid={\"alpha\": [1e0, 0.1, 1e-2, 1e-3],\n",
    "                              \"gamma\": np.logspace(-2, 2, 5)})\n",
    "svr.fit(X_train, y_train)\n",
    "kr.fit(X_train, y_train)"
   ]
  },
  {
   "cell_type": "code",
   "execution_count": null,
   "metadata": {
    "collapsed": false
   },
   "outputs": [],
   "source": [
    "y_pred_svr = svr.predict(X_test)\n",
    "y_pred_kr = kr.predict(X_test)\n",
    "from sklearn import metrics\n",
    "print metrics.mean_squared_error(y_test,y_pred_svr)\n",
    "print metrics.mean_squared_error(y_test,y_pred_kr)"
   ]
  },
  {
   "cell_type": "code",
   "execution_count": null,
   "metadata": {
    "collapsed": false
   },
   "outputs": [],
   "source": [
    "#Since svr with rbf gives better performance we save the svr model\n",
    "joblib.dump(svr,\"svr.pk\")"
   ]
  },
  {
   "cell_type": "code",
   "execution_count": null,
   "metadata": {
    "collapsed": true
   },
   "outputs": [],
   "source": []
  }
 ],
 "metadata": {
  "kernelspec": {
   "display_name": "Python 2",
   "language": "python",
   "name": "python2"
  },
  "language_info": {
   "codemirror_mode": {
    "name": "ipython",
    "version": 2
   },
   "file_extension": ".py",
   "mimetype": "text/x-python",
   "name": "python",
   "nbconvert_exporter": "python",
   "pygments_lexer": "ipython2",
   "version": "2.7.10"
  }
 },
 "nbformat": 4,
 "nbformat_minor": 0
}
