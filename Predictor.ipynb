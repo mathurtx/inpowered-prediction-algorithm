{
 "cells": [
  {
   "cell_type": "code",
   "execution_count": null,
   "metadata": {
    "collapsed": true
   },
   "outputs": [],
   "source": [
    "import FeatureExtractor\n",
    "\n",
    "def predictor(model,authorId,summary):\n",
    "    featureExtractor = FeatureExtractor()\n",
    "    featureExtractor.setAuthorId(authorId)\n",
    "    featureExtractor.authorFinder(authorId)\n",
    "    featureExtractor.\n",
    "    return model.predict(featureExtractor.X)\n",
    "    "
   ]
  }
 ],
 "metadata": {
  "kernelspec": {
   "display_name": "Python 2",
   "language": "python",
   "name": "python2"
  },
  "language_info": {
   "codemirror_mode": {
    "name": "ipython",
    "version": 2
   },
   "file_extension": ".py",
   "mimetype": "text/x-python",
   "name": "python",
   "nbconvert_exporter": "python",
   "pygments_lexer": "ipython2",
   "version": "2.7.10"
  }
 },
 "nbformat": 4,
 "nbformat_minor": 0
}
